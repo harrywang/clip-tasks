{
 "cells": [
  {
   "cell_type": "code",
   "execution_count": 2,
   "metadata": {},
   "outputs": [],
   "source": [
    "import pandas as pd\n",
    "import shutil"
   ]
  },
  {
   "cell_type": "code",
   "execution_count": null,
   "metadata": {},
   "outputs": [],
   "source": [
    "# get the total downloaded ids\n",
    "ids = open('downloaded_ids.txt','r').read().split('\\n')\n",
    "len(ids)"
   ]
  },
  {
   "cell_type": "code",
   "execution_count": 12,
   "metadata": {},
   "outputs": [],
   "source": [
    "# select 1k and 5k subsets\n",
    "one_k_ids = ids[:1000]\n",
    "five_k_ids = ids[:5000]"
   ]
  },
  {
   "cell_type": "code",
   "execution_count": 28,
   "metadata": {},
   "outputs": [],
   "source": [
    "# copy the selected images to 1k and 5k folders\n",
    "for id in one_k_ids:\n",
    "    shutil.copy2('./download/' + id + '.jpg', './1k')\n",
    "\n",
    "for id in five_k_ids:\n",
    "    shutil.copy2('./download/' + id + '.jpg', './5k')"
   ]
  },
  {
   "cell_type": "code",
   "execution_count": null,
   "metadata": {},
   "outputs": [],
   "source": [
    "# create the dataframes for 1k and 5k subsets\n",
    "df = pd.read_csv('photos.tsv000', sep='\\t', header=0)\n",
    "one_k_df = df[df.photo_id.isin(one_k_ids)]\n",
    "five_k_df = df[df.photo_id.isin(five_k_ids)]"
   ]
  },
  {
   "cell_type": "code",
   "execution_count": 32,
   "metadata": {},
   "outputs": [],
   "source": [
    "# save the dataframes into csv files\n",
    "one_k_df.to_csv('photos-1k.csv', index=False)\n",
    "five_k_df.to_csv('photos-5k.csv', index=False)"
   ]
  }
 ],
 "metadata": {
  "kernelspec": {
   "display_name": "venv",
   "language": "python",
   "name": "python3"
  },
  "language_info": {
   "codemirror_mode": {
    "name": "ipython",
    "version": 3
   },
   "file_extension": ".py",
   "mimetype": "text/x-python",
   "name": "python",
   "nbconvert_exporter": "python",
   "pygments_lexer": "ipython3",
   "version": "3.8.11 (default, Dec  7 2021, 21:00:30) \n[Clang 13.0.0 (clang-1300.0.29.3)]"
  },
  "orig_nbformat": 4,
  "vscode": {
   "interpreter": {
    "hash": "ccc34f601dea4e2b7cba63f4606caae56eff2a9ce4d98f253936d8cecc7148a1"
   }
  }
 },
 "nbformat": 4,
 "nbformat_minor": 2
}
