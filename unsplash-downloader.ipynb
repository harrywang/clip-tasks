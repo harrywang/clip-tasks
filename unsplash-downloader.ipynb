{
 "cells": [
  {
   "cell_type": "code",
   "execution_count": 1,
   "metadata": {},
   "outputs": [],
   "source": [
    "import os.path\n",
    "import time\n",
    "import pandas as pd"
   ]
  },
  {
   "cell_type": "code",
   "execution_count": 2,
   "metadata": {},
   "outputs": [],
   "source": [
    "# get photos.tsv000 from https://github.com/unsplash/datasets lite dataset\n",
    "df = pd.read_csv('photos.tsv000', sep='\\t', header=0)"
   ]
  },
  {
   "cell_type": "code",
   "execution_count": 3,
   "metadata": {},
   "outputs": [],
   "source": [
    "# download the first 6000\n",
    "df = df[:6000]"
   ]
  },
  {
   "cell_type": "code",
   "execution_count": null,
   "metadata": {},
   "outputs": [],
   "source": [
    "f = open('downloaded_ids.txt', 'w')  # track the downloaded photo ids\n",
    "e = open('exceptions.txt', 'w')  # track the failed photo ids\n",
    "counter = 0\n",
    "\n",
    "for index, row in df.iterrows():\n",
    "    counter += 1\n",
    "    url = row.photo_image_url\n",
    "    photo_id = row.photo_id\n",
    "\n",
    "    try:\n",
    "        if not os.path.exists('./download/' + photo_id + '.jpg'):\n",
    "            wget.download(url, './download/' + photo_id + '.jpg')\n",
    "            print('downloading ' + photo_id)\n",
    "            f.write(photo_id + '\\n')  # write the downloaded id to file\n",
    "        else:\n",
    "            print('file exists')\n",
    "    except Exception as ex:\n",
    "        print(f'something wrong with {photo_id}', ex)\n",
    "        e.write(photo_id + ',' + str(ex) + '\\n')  # write the failed id to file\n",
    "    \n",
    "    time.sleep(0.1)    # Pause 0.1 seconds to avoid banning \n",
    "\n",
    "f.close()\n",
    "e.close()\n",
    "print(f'Finish downloading {counter} images')"
   ]
  }
 ],
 "metadata": {
  "kernelspec": {
   "display_name": "venv",
   "language": "python",
   "name": "python3"
  },
  "language_info": {
   "codemirror_mode": {
    "name": "ipython",
    "version": 3
   },
   "file_extension": ".py",
   "mimetype": "text/x-python",
   "name": "python",
   "nbconvert_exporter": "python",
   "pygments_lexer": "ipython3",
   "version": "3.8.11"
  },
  "orig_nbformat": 4,
  "vscode": {
   "interpreter": {
    "hash": "ccc34f601dea4e2b7cba63f4606caae56eff2a9ce4d98f253936d8cecc7148a1"
   }
  }
 },
 "nbformat": 4,
 "nbformat_minor": 2
}
