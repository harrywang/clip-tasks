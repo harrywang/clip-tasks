{
 "cells": [
  {
   "cell_type": "code",
   "execution_count": 28,
   "metadata": {},
   "outputs": [],
   "source": [
    "from PIL import Image, ImageFile\n",
    "import os\n",
    "from tqdm import tqdm\n",
    "# the following is for https://github.com/python-pillow/Pillow/issues/3185\n",
    "ImageFile.LOAD_TRUNCATED_IMAGES = True"
   ]
  },
  {
   "cell_type": "code",
   "execution_count": 29,
   "metadata": {},
   "outputs": [],
   "source": [
    "# each image is resized (same ratio) and compressed into a new folder\n",
    "dir_org = '5k'  # folder with the original images\n",
    "dir_compressed = '5k-compressed'  # folder for the compressed images\n",
    "fixed_height = 512  # fixed height after resizing\n",
    "quality = 65  # percentage of the compression, e.g., 65%"
   ]
  },
  {
   "cell_type": "code",
   "execution_count": 30,
   "metadata": {},
   "outputs": [],
   "source": [
    "# find all jpg files\n",
    "files = os.listdir(dir_org)  # all files in the folder\n",
    "images = [file for file in files if file.endswith(('jpg'))]  # only jpg files"
   ]
  },
  {
   "cell_type": "code",
   "execution_count": 31,
   "metadata": {},
   "outputs": [
    {
     "name": "stderr",
     "output_type": "stream",
     "text": [
      " 80%|███████▉  | 3992/5000 [02:42<03:12,  5.24it/s]   /Users/harrywang/sandbox/clip-tasks/venv/lib/python3.8/site-packages/PIL/Image.py:3167: DecompressionBombWarning: Image size (96012000 pixels) exceeds limit of 89478485 pixels, could be decompression bomb DOS attack.\n",
      "  warnings.warn(\n",
      "100%|██████████| 5000/5000 [05:53<00:00, 14.12it/s]"
     ]
    },
    {
     "name": "stdout",
     "output_type": "stream",
     "text": [
      "complete processing 1877 images\n"
     ]
    },
    {
     "name": "stderr",
     "output_type": "stream",
     "text": [
      "\n"
     ]
    }
   ],
   "source": [
    "# resize and compress each image\n",
    "count = 0\n",
    "for image in tqdm(images):\n",
    "\n",
    "    compressed_image = dir_compressed + '/' + image  # the path for the compressed image\n",
    "    if not os.path.exists(compressed_image):  # skip processed images\n",
    "        #print(f'processing {image}')\n",
    "\n",
    "        try:\n",
    "            # open the image\n",
    "            im = Image.open(dir_org + '/' + image)\n",
    "\n",
    "            # convert to RGB\n",
    "            # RGBA cannot be saved into JPG https://stackoverflow.com/questions/48248405/cannot-write-mode-rgba-as-jpeg\n",
    "            im = im.convert('RGB')  \n",
    "            \n",
    "            # resize with the same ratio\n",
    "            height_percent = (fixed_height / float(im.size[1]))\n",
    "            width_size = int((float(im.size[0]) * float(height_percent)))\n",
    "            im = im.resize((width_size, fixed_height), Image.NEAREST)\n",
    "\n",
    "            # compress\n",
    "            im.save(dir_compressed + '/' + image, optimize=True, quality=quality)\n",
    "\n",
    "            count += 1\n",
    "        except Exception as ex:\n",
    "            print(f'something wrong with {image}', ex)\n",
    "            break  # stop\n",
    "\n",
    "print(f'complete processing {count} images')"
   ]
  }
 ],
 "metadata": {
  "kernelspec": {
   "display_name": "venv",
   "language": "python",
   "name": "python3"
  },
  "language_info": {
   "codemirror_mode": {
    "name": "ipython",
    "version": 3
   },
   "file_extension": ".py",
   "mimetype": "text/x-python",
   "name": "python",
   "nbconvert_exporter": "python",
   "pygments_lexer": "ipython3",
   "version": "3.8.11"
  },
  "orig_nbformat": 4,
  "vscode": {
   "interpreter": {
    "hash": "ccc34f601dea4e2b7cba63f4606caae56eff2a9ce4d98f253936d8cecc7148a1"
   }
  }
 },
 "nbformat": 4,
 "nbformat_minor": 2
}
