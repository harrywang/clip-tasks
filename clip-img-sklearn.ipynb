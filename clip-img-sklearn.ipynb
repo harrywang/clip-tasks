{
 "cells": [
  {
   "cell_type": "code",
   "execution_count": 192,
   "metadata": {},
   "outputs": [],
   "source": [
    "import clip\n",
    "import torch\n",
    "import numpy as np\n",
    "import pandas as pd\n",
    "from PIL import Image\n",
    "from tqdm import tqdm\n",
    "import os\n",
    "from sklearn.model_selection import train_test_split\n",
    "from sklearn.ensemble import RandomForestClassifier\n",
    "from sklearn.metrics import accuracy_score"
   ]
  },
  {
   "cell_type": "code",
   "execution_count": 193,
   "metadata": {},
   "outputs": [],
   "source": [
    "# use 1k compressed images\n",
    "photos = pd.read_csv('photos-1k-pred.csv')\n",
    "img_folder = '1k-compressed'"
   ]
  },
  {
   "cell_type": "code",
   "execution_count": 194,
   "metadata": {},
   "outputs": [
    {
     "name": "stdout",
     "output_type": "stream",
     "text": [
      "<class 'pandas.core.frame.DataFrame'>\n",
      "RangeIndex: 1000 entries, 0 to 999\n",
      "Data columns (total 33 columns):\n",
      " #   Column                          Non-Null Count  Dtype  \n",
      "---  ------                          --------------  -----  \n",
      " 0   photo_id                        1000 non-null   object \n",
      " 1   photo_url                       1000 non-null   object \n",
      " 2   photo_image_url                 1000 non-null   object \n",
      " 3   photo_submitted_at              1000 non-null   object \n",
      " 4   photo_featured                  1000 non-null   object \n",
      " 5   photo_width                     1000 non-null   int64  \n",
      " 6   photo_height                    1000 non-null   int64  \n",
      " 7   photo_aspect_ratio              1000 non-null   float64\n",
      " 8   photo_description               463 non-null    object \n",
      " 9   photographer_username           1000 non-null   object \n",
      " 10  photographer_first_name         1000 non-null   object \n",
      " 11  photographer_last_name          936 non-null    object \n",
      " 12  exif_camera_make                887 non-null    object \n",
      " 13  exif_camera_model               885 non-null    object \n",
      " 14  exif_iso                        864 non-null    float64\n",
      " 15  exif_aperture_value             842 non-null    float64\n",
      " 16  exif_focal_length               849 non-null    object \n",
      " 17  exif_exposure_time              861 non-null    object \n",
      " 18  photo_location_name             412 non-null    object \n",
      " 19  photo_location_latitude         312 non-null    float64\n",
      " 20  photo_location_longitude        311 non-null    float64\n",
      " 21  photo_location_country          380 non-null    object \n",
      " 22  photo_location_city             278 non-null    object \n",
      " 23  stats_views                     1000 non-null   int64  \n",
      " 24  stats_downloads                 1000 non-null   int64  \n",
      " 25  ai_description                  949 non-null    object \n",
      " 26  ai_primary_landmark_name        55 non-null     object \n",
      " 27  ai_primary_landmark_latitude    55 non-null     float64\n",
      " 28  ai_primary_landmark_longitude   55 non-null     float64\n",
      " 29  ai_primary_landmark_confidence  55 non-null     float64\n",
      " 30  blur_hash                       1000 non-null   object \n",
      " 31  taken_space                     1000 non-null   object \n",
      " 32  taken_time                      1000 non-null   object \n",
      "dtypes: float64(8), int64(4), object(21)\n",
      "memory usage: 257.9+ KB\n"
     ]
    }
   ],
   "source": [
    "photos.info()"
   ]
  },
  {
   "cell_type": "code",
   "execution_count": 195,
   "metadata": {},
   "outputs": [
    {
     "name": "stdout",
     "output_type": "stream",
     "text": [
      "rows with iso null values: 136\n",
      "remove iso null value\n",
      "rows with iso null values: 0\n"
     ]
    }
   ],
   "source": [
    "print(f'rows with iso null values: {photos.exif_iso.isnull().sum()}')\n",
    "photos.dropna(subset=['exif_iso'], inplace=True)  # remove those rows\n",
    "print('remove iso null value')\n",
    "print(f'rows with iso null values: {photos.exif_iso.isnull().sum()}')"
   ]
  },
  {
   "cell_type": "code",
   "execution_count": 196,
   "metadata": {},
   "outputs": [
    {
     "data": {
      "text/plain": [
       "low       0.577546\n",
       "medium    0.312500\n",
       "high      0.109954\n",
       "Name: iso_level, dtype: float64"
      ]
     },
     "execution_count": 196,
     "metadata": {},
     "output_type": "execute_result"
    }
   ],
   "source": [
    "# function to get a new derived column for iso\n",
    "def get_iso_level(row):\n",
    "    if row.exif_iso <= 200:\n",
    "        return 'low'\n",
    "    elif row.exif_iso <= 1000:\n",
    "        return 'medium'\n",
    "    else:\n",
    "        return 'high'\n",
    "\n",
    "photos['iso_level'] = photos.apply(lambda row: get_iso_level(row), axis=1)\n",
    "photos.iso_level.value_counts(normalize=True)"
   ]
  },
  {
   "cell_type": "code",
   "execution_count": 197,
   "metadata": {},
   "outputs": [],
   "source": [
    "# use stratified sampling to split the train and test\n",
    "\n",
    "X = photos.drop('iso_level', axis=1)\n",
    "y = photos.iso_level\n",
    "\n",
    "X_train, X_test, y_train, y_test = train_test_split(X, y, stratify=y, test_size=0.2)"
   ]
  },
  {
   "cell_type": "code",
   "execution_count": 198,
   "metadata": {},
   "outputs": [
    {
     "name": "stdout",
     "output_type": "stream",
     "text": [
      "low       0.577424\n",
      "medium    0.312590\n",
      "high      0.109986\n",
      "Name: iso_level, dtype: float64\n",
      "low       0.578035\n",
      "medium    0.312139\n",
      "high      0.109827\n",
      "Name: iso_level, dtype: float64\n"
     ]
    }
   ],
   "source": [
    "# sanity check for stratified sampling\n",
    "print(y_train.value_counts(normalize=True))\n",
    "print(y_test.value_counts(normalize=True))"
   ]
  },
  {
   "cell_type": "code",
   "execution_count": 199,
   "metadata": {},
   "outputs": [
    {
     "name": "stdout",
     "output_type": "stream",
     "text": [
      "mps\n"
     ]
    }
   ],
   "source": [
    "# select device: mps for Apple M1, cuda for GPU\n",
    "device = \"mps\" if torch.backends.mps.is_available() else \"cpu\"\n",
    "#device = \"cuda\" if torch.cuda.is_available() else \"cpu\"\n",
    "print(device)\n",
    "\n",
    "# local model and preprocessor\n",
    "model, preprocess = clip.load(\"ViT-B/32\", device=device)  # ViT-L/14@336px is the latest, ViT-B/32 is the first release, use ViT-L/14"
   ]
  },
  {
   "cell_type": "code",
   "execution_count": 200,
   "metadata": {},
   "outputs": [],
   "source": [
    "def get_features_clip(df, img_folder):\n",
    "    all_features = []\n",
    "\n",
    "    BATCH_SIZE = 500\n",
    "    total_photos = len(df)\n",
    "\n",
    "    for i in tqdm(range(0, total_photos, BATCH_SIZE)):\n",
    "        \n",
    "        # preprocess the images by batch\n",
    "        images = [\n",
    "            preprocess(  \n",
    "                Image.open(f'./'+ img_folder + f'/{img_id}.jpg')\n",
    "            ) for img_id in df['photo_id'].iloc[i:i+BATCH_SIZE]\n",
    "        ]\n",
    "        \n",
    "        # stack the preprocess the images from list to tensor\n",
    "        #image_input = torch.tensor(np.stack(images)).to(device)  \n",
    "        image_input = torch.stack(images).to(device) \n",
    "\n",
    "        with torch.no_grad():\n",
    "            image_features = model.encode_image(image_input)  # encode image\n",
    "            #print(image_features.shape)  # BATCH_SIZE, 512\n",
    "            all_features.append(image_features)  # append encoding result for each batch\n",
    "    \n",
    "    return torch.cat(all_features).cpu().numpy()  # concatenate all features"
   ]
  },
  {
   "cell_type": "code",
   "execution_count": 201,
   "metadata": {},
   "outputs": [],
   "source": [
    "# only extract features when not done yet for clip\n",
    "if not os.path.exists('sklearn-features/train_features_clip.npy'):\n",
    "    train_features_clip = get_features_clip(X_train, img_folder)\n",
    "    test_features_clip = get_features_clip(X_test, img_folder)\n",
    "\n",
    "    # save the features\n",
    "    np.save('sklearn-features/train_features_clip.npy', train_features_clip)\n",
    "    np.save('sklearn-features/test_features_clip.npy', test_features_clip)\n",
    "else:\n",
    "    train_features_clip = np.load('sklearn-features/train_features_clip.npy')\n",
    "    test_features_clip = np.load('sklearn-features/test_features_clip.npy')"
   ]
  },
  {
   "cell_type": "code",
   "execution_count": 203,
   "metadata": {},
   "outputs": [
    {
     "name": "stdout",
     "output_type": "stream",
     "text": [
      "Accuracy = 0.578\n",
      "Baseline Accuracy = 0.578\n"
     ]
    }
   ],
   "source": [
    "# Evaluate using a random forest classifier\n",
    "\n",
    "rf_cls = RandomForestClassifier()\n",
    "rf_cls.fit(train_features_clip, y_train)\n",
    "\n",
    "y_pred = rf_cls.predict(test_features_clip)\n",
    "y_pred_baseline = y_test.replace(['high', 'medium'], 'low')  # predict all 'low' as a baseline\n",
    "\n",
    "accuracy = accuracy_score(y_test, y_pred)\n",
    "accuracy_baseline = accuracy_score(y_test, y_pred_baseline)\n",
    "print(f\"Accuracy = {accuracy:.3f}\")\n",
    "print(f\"Baseline Accuracy = {accuracy_baseline:.3f}\")"
   ]
  },
  {
   "cell_type": "code",
   "execution_count": 76,
   "metadata": {},
   "outputs": [],
   "source": [
    "# build a dataset with photos taken during the day vs. at night\n",
    "\n",
    "if not os.path.exists('photos-5k-pred.csv'):\n",
    "    photos = pd.read_csv('photos-5k-pred.csv')\n",
    "    photos = photos[photos.taken_time.isin(['day', 'night'])]\n",
    "    photos_clustering = photos.groupby('taken_time').sample(250)\n",
    "    photos_clustering.taken_time.value_counts()\n",
    "    photos_day = photos_clustering[photos_clustering.taken_time=='day']\n",
    "    photos_night = photos_clustering[photos_clustering.taken_time=='night']\n",
    "    photos_clustering.to_csv('photos-clustering.csv', index=False)\n",
    "else:\n",
    "    photos_clustering = pd.read_csv('photos-clustering.csv')\n",
    "    photos_day = photos_clustering[photos_clustering.taken_time=='day']\n",
    "    photos_night = photos_clustering[photos_clustering.taken_time=='night']"
   ]
  },
  {
   "cell_type": "code",
   "execution_count": 204,
   "metadata": {},
   "outputs": [],
   "source": [
    "# copy the selected images to clustering-photos folder\n",
    "import shutil\n",
    "if len(os.listdir('./clustering-photos/all/')) == 0:  # only do this when the folder is empty\n",
    "    print('copy photos')\n",
    "    for id in photos_clustering.photo_id:\n",
    "        shutil.copy2('5k-compressed/' + id + '.jpg', 'clustering-photos/all')\n",
    "\n",
    "    for id in photos_day.photo_id:\n",
    "        shutil.copy2('5k-compressed/' + id + '.jpg', 'clustering-photos/day')\n",
    "\n",
    "    for id in photos_night.photo_id:\n",
    "        shutil.copy2('5k-compressed/' + id + '.jpg', 'clustering-photos/night')"
   ]
  },
  {
   "cell_type": "code",
   "execution_count": 230,
   "metadata": {},
   "outputs": [],
   "source": [
    "# get features for all clustering photos clip\n",
    "\n",
    "if not os.path.exists('sklearn-features/clustering_features_clip.npy'):\n",
    "    all_features_clip = get_features_clip(photos_clustering, 'clustering-photos/all')\n",
    "    np.save('sklearn-features/clustering_features_clip.npy', all_features_clip)\n",
    "else:\n",
    "    all_features_clip = np.load('sklearn-features/clustering_features_clip.npy')"
   ]
  },
  {
   "cell_type": "code",
   "execution_count": 236,
   "metadata": {},
   "outputs": [],
   "source": [
    "# Kmeans Clustering\n",
    "from sklearn.cluster import KMeans\n",
    "from sklearn.metrics import silhouette_score\n",
    "import matplotlib.pyplot as plt\n",
    "plt.style.use('ggplot')\n",
    "\n",
    "inertia_scores = []\n",
    "silhouette_scores = []\n",
    "\n",
    "# try 9 different k values\n",
    "# note that we have to start with 2 clusters for the silhouette score to work\n",
    "for k in range(2, 11):\n",
    "    kmeans = KMeans(n_clusters=k, n_init=10, random_state=42)\n",
    "    kmeans.fit(all_features_clip)\n",
    "    silhouette_scores.append(silhouette_score(all_features_clip, kmeans.labels_)) # record the silhouette score for each k\n",
    "    inertia_scores.append(kmeans.inertia_) # record the inertia for each k"
   ]
  },
  {
   "cell_type": "code",
   "execution_count": 239,
   "metadata": {},
   "outputs": [
    {
     "data": {
      "text/plain": [
       "Text(0, 0.5, 'Silhouette scores')"
      ]
     },
     "execution_count": 239,
     "metadata": {},
     "output_type": "execute_result"
    },
    {
     "data": {
      "image/png": "[encoded data removed]",
      "text/plain": [
       "<Figure size 900x300 with 1 Axes>"
      ]
     },
     "metadata": {},
     "output_type": "display_data"
    },
    {
     "data": {
      "image/png": "[encoded data removed]",
      "text/plain": [
       "<Figure size 900x300 with 1 Axes>"
      ]
     },
     "metadata": {},
     "output_type": "display_data"
    }
   ],
   "source": [
    "# plot the inertia scores\n",
    "fig, ax = plt.subplots(figsize=(9, 3))\n",
    "k = np.arange(2, 11) \n",
    "ax.plot(k, inertia_scores, 'o')  # draw the dots\n",
    "ax.plot(k, inertia_scores, '-')  # draw the lines\n",
    "ax.set_xlabel('Number of Clusters: k')\n",
    "ax.set_ylabel('Inertia')\n",
    "\n",
    "# plot the silhouette scores\n",
    "fig, ax = plt.subplots(figsize=(9, 3))\n",
    "k = np.arange(2, 11) \n",
    "ax.plot(k, silhouette_scores, 'o')  # draw the dots\n",
    "ax.plot(k, silhouette_scores, '-')  # draw the lines\n",
    "ax.set_xlabel('Number of Clusters: k')\n",
    "ax.set_ylabel('Silhouette scores')"
   ]
  },
  {
   "cell_type": "code",
   "execution_count": 207,
   "metadata": {},
   "outputs": [
    {
     "data": {
      "text/html": [
       "<style>#sk-container-id-3 {color: black;background-color: white;}#sk-container-id-3 pre{padding: 0;}#sk-container-id-3 div.sk-toggleable {background-color: white;}#sk-container-id-3 label.sk-toggleable__label {cursor: pointer;display: block;width: 100%;margin-bottom: 0;padding: 0.3em;box-sizing: border-box;text-align: center;}#sk-container-id-3 label.sk-toggleable__label-arrow:before {content: \"▸\";float: left;margin-right: 0.25em;color: #696969;}#sk-container-id-3 label.sk-toggleable__label-arrow:hover:before {color: black;}#sk-container-id-3 div.sk-estimator:hover label.sk-toggleable__label-arrow:before {color: black;}#sk-container-id-3 div.sk-toggleable__content {max-height: 0;max-width: 0;overflow: hidden;text-align: left;background-color: #f0f8ff;}#sk-container-id-3 div.sk-toggleable__content pre {margin: 0.2em;color: black;border-radius: 0.25em;background-color: #f0f8ff;}#sk-container-id-3 input.sk-toggleable__control:checked~div.sk-toggleable__content {max-height: 200px;max-width: 100%;overflow: auto;}#sk-container-id-3 input.sk-toggleable__control:checked~label.sk-toggleable__label-arrow:before {content: \"▾\";}#sk-container-id-3 div.sk-estimator input.sk-toggleable__control:checked~label.sk-toggleable__label {background-color: #d4ebff;}#sk-container-id-3 div.sk-label input.sk-toggleable__control:checked~label.sk-toggleable__label {background-color: #d4ebff;}#sk-container-id-3 input.sk-hidden--visually {border: 0;clip: rect(1px 1px 1px 1px);clip: rect(1px, 1px, 1px, 1px);height: 1px;margin: -1px;overflow: hidden;padding: 0;position: absolute;width: 1px;}#sk-container-id-3 div.sk-estimator {font-family: monospace;background-color: #f0f8ff;border: 1px dotted black;border-radius: 0.25em;box-sizing: border-box;margin-bottom: 0.5em;}#sk-container-id-3 div.sk-estimator:hover {background-color: #d4ebff;}#sk-container-id-3 div.sk-parallel-item::after {content: \"\";width: 100%;border-bottom: 1px solid gray;flex-grow: 1;}#sk-container-id-3 div.sk-label:hover label.sk-toggleable__label {background-color: #d4ebff;}#sk-container-id-3 div.sk-serial::before {content: \"\";position: absolute;border-left: 1px solid gray;box-sizing: border-box;top: 0;bottom: 0;left: 50%;z-index: 0;}#sk-container-id-3 div.sk-serial {display: flex;flex-direction: column;align-items: center;background-color: white;padding-right: 0.2em;padding-left: 0.2em;position: relative;}#sk-container-id-3 div.sk-item {position: relative;z-index: 1;}#sk-container-id-3 div.sk-parallel {display: flex;align-items: stretch;justify-content: center;background-color: white;position: relative;}#sk-container-id-3 div.sk-item::before, #sk-container-id-3 div.sk-parallel-item::before {content: \"\";position: absolute;border-left: 1px solid gray;box-sizing: border-box;top: 0;bottom: 0;left: 50%;z-index: -1;}#sk-container-id-3 div.sk-parallel-item {display: flex;flex-direction: column;z-index: 1;position: relative;background-color: white;}#sk-container-id-3 div.sk-parallel-item:first-child::after {align-self: flex-end;width: 50%;}#sk-container-id-3 div.sk-parallel-item:last-child::after {align-self: flex-start;width: 50%;}#sk-container-id-3 div.sk-parallel-item:only-child::after {width: 0;}#sk-container-id-3 div.sk-dashed-wrapped {border: 1px dashed gray;margin: 0 0.4em 0.5em 0.4em;box-sizing: border-box;padding-bottom: 0.4em;background-color: white;}#sk-container-id-3 div.sk-label label {font-family: monospace;font-weight: bold;display: inline-block;line-height: 1.2em;}#sk-container-id-3 div.sk-label-container {text-align: center;}#sk-container-id-3 div.sk-container {/* jupyter's `normalize.less` sets `[hidden] { display: none; }` but bootstrap.min.css set `[hidden] { display: none !important; }` so we also need the `!important` here to be able to override the default hidden behavior on the sphinx rendered scikit-learn.org. See: https://github.com/scikit-learn/scikit-learn/issues/21755 */display: inline-block !important;position: relative;}#sk-container-id-3 div.sk-text-repr-fallback {display: none;}</style><div id=\"sk-container-id-3\" class=\"sk-top-container\"><div class=\"sk-text-repr-fallback\"><pre>KMeans(n_clusters=2, n_init=10, random_state=42)</pre><b>In a Jupyter environment, please rerun this cell to show the HTML representation or trust the notebook. <br />On GitHub, the HTML representation is unable to render, please try loading this page with nbviewer.org.</b></div><div class=\"sk-container\" hidden><div class=\"sk-item\"><div class=\"sk-estimator sk-toggleable\"><input class=\"sk-toggleable__control sk-hidden--visually\" id=\"sk-estimator-id-3\" type=\"checkbox\" checked><label for=\"sk-estimator-id-3\" class=\"sk-toggleable__label sk-toggleable__label-arrow\">KMeans</label><div class=\"sk-toggleable__content\"><pre>KMeans(n_clusters=2, n_init=10, random_state=42)</pre></div></div></div></div></div>"
      ],
      "text/plain": [
       "KMeans(n_clusters=2, n_init=10, random_state=42)"
      ]
     },
     "execution_count": 207,
     "metadata": {},
     "output_type": "execute_result"
    }
   ],
   "source": [
    "kmeans = KMeans(n_clusters=2, n_init=10, random_state=42)\n",
    "kmeans.fit(all_features)"
   ]
  },
  {
   "cell_type": "code",
   "execution_count": 208,
   "metadata": {},
   "outputs": [],
   "source": [
    "labels = pd.DataFrame(kmeans.labels_, columns=['cluster'])"
   ]
  },
  {
   "cell_type": "code",
   "execution_count": 209,
   "metadata": {},
   "outputs": [],
   "source": [
    "df = pd.concat((photos, labels), axis=1)"
   ]
  },
  {
   "cell_type": "code",
   "execution_count": 210,
   "metadata": {},
   "outputs": [
    {
     "data": {
      "text/plain": [
       "0.0    339\n",
       "1.0    161\n",
       "Name: cluster, dtype: int64"
      ]
     },
     "execution_count": 210,
     "metadata": {},
     "output_type": "execute_result"
    }
   ],
   "source": [
    "df.cluster.value_counts()"
   ]
  },
  {
   "cell_type": "code",
   "execution_count": 211,
   "metadata": {},
   "outputs": [
    {
     "data": {
      "text/html": [
       "<div>\n",
       "<style scoped>\n",
       "    .dataframe tbody tr th:only-of-type {\n",
       "        vertical-align: middle;\n",
       "    }\n",
       "\n",
       "    .dataframe tbody tr th {\n",
       "        vertical-align: top;\n",
       "    }\n",
       "\n",
       "    .dataframe thead th {\n",
       "        text-align: right;\n",
       "    }\n",
       "</style>\n",
       "<table border=\"1\" class=\"dataframe\">\n",
       "  <thead>\n",
       "    <tr style=\"text-align: right;\">\n",
       "      <th></th>\n",
       "      <th>x</th>\n",
       "      <th>y</th>\n",
       "    </tr>\n",
       "  </thead>\n",
       "  <tbody>\n",
       "    <tr>\n",
       "      <th>0</th>\n",
       "      <td>-1.066231</td>\n",
       "      <td>1.889991</td>\n",
       "    </tr>\n",
       "    <tr>\n",
       "      <th>1</th>\n",
       "      <td>-2.843014</td>\n",
       "      <td>-0.348366</td>\n",
       "    </tr>\n",
       "    <tr>\n",
       "      <th>2</th>\n",
       "      <td>-0.451213</td>\n",
       "      <td>1.540107</td>\n",
       "    </tr>\n",
       "    <tr>\n",
       "      <th>3</th>\n",
       "      <td>-2.042562</td>\n",
       "      <td>2.344389</td>\n",
       "    </tr>\n",
       "    <tr>\n",
       "      <th>4</th>\n",
       "      <td>0.135721</td>\n",
       "      <td>1.196299</td>\n",
       "    </tr>\n",
       "  </tbody>\n",
       "</table>\n",
       "</div>"
      ],
      "text/plain": [
       "          x         y\n",
       "0 -1.066231  1.889991\n",
       "1 -2.843014 -0.348366\n",
       "2 -0.451213  1.540107\n",
       "3 -2.042562  2.344389\n",
       "4  0.135721  1.196299"
      ]
     },
     "execution_count": 211,
     "metadata": {},
     "output_type": "execute_result"
    }
   ],
   "source": [
    "from sklearn.decomposition import PCA\n",
    "pca = PCA(n_components=2)  # for 2D visualization\n",
    "all_features_pca = pca.fit_transform(all_features_clip)\n",
    "all_features_pca = pd.DataFrame(all_features_pca, columns=['x', 'y'])\n",
    "all_features_pca.head()"
   ]
  },
  {
   "cell_type": "code",
   "execution_count": 212,
   "metadata": {},
   "outputs": [
    {
     "data": {
      "text/html": [
       "<div>\n",
       "<style scoped>\n",
       "    .dataframe tbody tr th:only-of-type {\n",
       "        vertical-align: middle;\n",
       "    }\n",
       "\n",
       "    .dataframe tbody tr th {\n",
       "        vertical-align: top;\n",
       "    }\n",
       "\n",
       "    .dataframe thead th {\n",
       "        text-align: right;\n",
       "    }\n",
       "</style>\n",
       "<table border=\"1\" class=\"dataframe\">\n",
       "  <thead>\n",
       "    <tr style=\"text-align: right;\">\n",
       "      <th></th>\n",
       "      <th>photo_id</th>\n",
       "      <th>x</th>\n",
       "      <th>y</th>\n",
       "      <th>cluster</th>\n",
       "    </tr>\n",
       "  </thead>\n",
       "  <tbody>\n",
       "    <tr>\n",
       "      <th>0</th>\n",
       "      <td>XMyPniM9LF0</td>\n",
       "      <td>-1.066231</td>\n",
       "      <td>1.889991</td>\n",
       "      <td>0.0</td>\n",
       "    </tr>\n",
       "    <tr>\n",
       "      <th>1</th>\n",
       "      <td>rDLBArZUl1c</td>\n",
       "      <td>-2.843014</td>\n",
       "      <td>-0.348366</td>\n",
       "      <td>0.0</td>\n",
       "    </tr>\n",
       "    <tr>\n",
       "      <th>2</th>\n",
       "      <td>cNDGZ2sQ3Bo</td>\n",
       "      <td>-0.451213</td>\n",
       "      <td>1.540107</td>\n",
       "      <td>0.0</td>\n",
       "    </tr>\n",
       "    <tr>\n",
       "      <th>3</th>\n",
       "      <td>iuZ_D1eoq9k</td>\n",
       "      <td>-2.042562</td>\n",
       "      <td>2.344389</td>\n",
       "      <td>0.0</td>\n",
       "    </tr>\n",
       "    <tr>\n",
       "      <th>4</th>\n",
       "      <td>BeD3vjQ8SI0</td>\n",
       "      <td>0.135721</td>\n",
       "      <td>1.196299</td>\n",
       "      <td>0.0</td>\n",
       "    </tr>\n",
       "  </tbody>\n",
       "</table>\n",
       "</div>"
      ],
      "text/plain": [
       "      photo_id         x         y  cluster\n",
       "0  XMyPniM9LF0 -1.066231  1.889991      0.0\n",
       "1  rDLBArZUl1c -2.843014 -0.348366      0.0\n",
       "2  cNDGZ2sQ3Bo -0.451213  1.540107      0.0\n",
       "3  iuZ_D1eoq9k -2.042562  2.344389      0.0\n",
       "4  BeD3vjQ8SI0  0.135721  1.196299      0.0"
      ]
     },
     "execution_count": 212,
     "metadata": {},
     "output_type": "execute_result"
    }
   ],
   "source": [
    "cluster_df = pd.concat((photos.photo_id, all_features_pca, labels), axis=1)\n",
    "cluster_df.head()"
   ]
  },
  {
   "cell_type": "code",
   "execution_count": 213,
   "metadata": {},
   "outputs": [],
   "source": [
    "import timm\n",
    "#timm.list_models(pretrained=True)  # check all pretrained weights\n",
    "model = timm.create_model('efficientnet_b4', pretrained=True).to(device)"
   ]
  },
  {
   "cell_type": "code",
   "execution_count": 214,
   "metadata": {},
   "outputs": [],
   "source": [
    "import urllib\n",
    "from PIL import Image\n",
    "from timm.data import resolve_data_config\n",
    "from timm.data.transforms_factory import create_transform\n",
    "\n",
    "transform = create_transform(224)  # (3, 224, 224)\n",
    "\n",
    "url, filename = (\"https://github.com/pytorch/hub/raw/master/images/dog.jpg\", \"dog.jpg\")\n",
    "urllib.request.urlretrieve(url, filename)\n",
    "img = Image.open(filename).convert('RGB')\n",
    "tensor = transform(img) # transform and add batch dimension"
   ]
  },
  {
   "cell_type": "code",
   "execution_count": 216,
   "metadata": {},
   "outputs": [],
   "source": [
    "images = [\n",
    "    transform(  \n",
    "        Image.open(f'./'+ img_folder + f'/{img_id}.jpg')\n",
    "    ) for img_id in photos['photo_id'].iloc[0:2]\n",
    "]"
   ]
  },
  {
   "cell_type": "code",
   "execution_count": 217,
   "metadata": {},
   "outputs": [
    {
     "data": {
      "text/plain": [
       "torch.Size([3, 224, 224])"
      ]
     },
     "execution_count": 217,
     "metadata": {},
     "output_type": "execute_result"
    }
   ],
   "source": [
    "images[0].shape"
   ]
  },
  {
   "cell_type": "code",
   "execution_count": 218,
   "metadata": {},
   "outputs": [
    {
     "data": {
      "text/plain": [
       "torch.Size([2, 3, 224, 224])"
      ]
     },
     "execution_count": 218,
     "metadata": {},
     "output_type": "execute_result"
    }
   ],
   "source": [
    "image_input = torch.stack(images).to(device) \n",
    "image_input.shape"
   ]
  },
  {
   "cell_type": "code",
   "execution_count": 222,
   "metadata": {},
   "outputs": [
    {
     "data": {
      "text/plain": [
       "torch.Size([2, 1000])"
      ]
     },
     "execution_count": 222,
     "metadata": {},
     "output_type": "execute_result"
    }
   ],
   "source": [
    "# 1000 class features\n",
    "with torch.no_grad():\n",
    "    image_features = model(image_input).to(device)\n",
    "\n",
    "image_features.shape"
   ]
  },
  {
   "cell_type": "code",
   "execution_count": 223,
   "metadata": {},
   "outputs": [
    {
     "data": {
      "text/plain": [
       "torch.Size([2, 1792, 7, 7])"
      ]
     },
     "execution_count": 223,
     "metadata": {},
     "output_type": "execute_result"
    }
   ],
   "source": [
    "# remove the classification layer\n",
    "with torch.no_grad():\n",
    "    image_features = model.forward_features(image_input).to(device)\n",
    "\n",
    "image_features.shape"
   ]
  },
  {
   "cell_type": "code",
   "execution_count": 224,
   "metadata": {},
   "outputs": [
    {
     "data": {
      "text/plain": [
       "torch.Size([2, 1792])"
      ]
     },
     "execution_count": 224,
     "metadata": {},
     "output_type": "execute_result"
    }
   ],
   "source": [
    "# only keep the first two dimensions\n",
    "image_features[:, :, 0, 0].shape"
   ]
  },
  {
   "cell_type": "code",
   "execution_count": 225,
   "metadata": {},
   "outputs": [],
   "source": [
    "# convert grayscale images to RGB\n",
    "# used in the following function\n",
    "def pil_loader(path):\n",
    "    with open(path, 'rb') as f:\n",
    "        with Image.open(f) as img:\n",
    "            return img.convert('RGB')"
   ]
  },
  {
   "cell_type": "code",
   "execution_count": 226,
   "metadata": {},
   "outputs": [],
   "source": [
    "def get_features_en(df, img_folder):  # get features via EfficientNet\n",
    "    all_features = []\n",
    "\n",
    "    BATCH_SIZE = 500\n",
    "    total_photos = len(df)\n",
    "\n",
    "    for i in tqdm(range(0, total_photos, BATCH_SIZE)):\n",
    "        \n",
    "        # preprocess the images by batch\n",
    "        images = [\n",
    "            transform(  \n",
    "                pil_loader(f'./'+ img_folder + f'/{img_id}.jpg')\n",
    "            ) for img_id in df['photo_id'].iloc[i:i+BATCH_SIZE]\n",
    "        ]\n",
    "        \n",
    "        # stack the preprocess the images from list to tensor\n",
    "        #image_input = torch.tensor(np.stack(images)).to(device)  \n",
    "        image_input = torch.stack(images).to(device) \n",
    "\n",
    "        with torch.no_grad():\n",
    "            image_features = model.forward_features(image_input)  # encode image 1792 features\n",
    "            image_features = image_features[:, :, 0, 0]  # only the first two dimensions\n",
    "            all_features.append(image_features)  # append encoding result for each batch\n",
    "    \n",
    "    return torch.cat(all_features).cpu().numpy()  # concatenate all features"
   ]
  },
  {
   "cell_type": "code",
   "execution_count": 228,
   "metadata": {},
   "outputs": [
    {
     "name": "stderr",
     "output_type": "stream",
     "text": [
      "100%|██████████| 2/2 [00:45<00:00, 22.67s/it]\n",
      "100%|██████████| 1/1 [00:06<00:00,  6.82s/it]\n"
     ]
    }
   ],
   "source": [
    "# only extract features when not done yet for EfficientNet\n",
    "if not os.path.exists('sklearn-features/train_features_en.npy'):\n",
    "    train_features_en = get_features_en(X_train, img_folder)\n",
    "    test_features_en = get_features_en(X_test, img_folder)\n",
    "\n",
    "    # save the features\n",
    "    np.save('sklearn-features/train_features_en.npy', train_features_en)\n",
    "    np.save('sklearn-features/test_features_en.npy', test_features_en)\n",
    "else:\n",
    "    train_features_en = np.load('sklearn-features/train_features_en.npy')\n",
    "    test_features_en = np.load('sklearn-features/test_features_en.npy')"
   ]
  },
  {
   "cell_type": "code",
   "execution_count": 187,
   "metadata": {},
   "outputs": [
    {
     "data": {
      "text/plain": [
       "(691, 1792)"
      ]
     },
     "execution_count": 187,
     "metadata": {},
     "output_type": "execute_result"
    }
   ],
   "source": [
    "train_features_en.shape, test_features_en.shape"
   ]
  },
  {
   "cell_type": "code",
   "execution_count": 191,
   "metadata": {},
   "outputs": [
    {
     "name": "stdout",
     "output_type": "stream",
     "text": [
      "Accuracy = 0.561\n",
      "Baseline Accuracy = 0.578\n"
     ]
    }
   ],
   "source": [
    "# Evaluate using a random forest classifier\n",
    "\n",
    "rf_cls = RandomForestClassifier()\n",
    "rf_cls.fit(train_features_en, y_train)\n",
    "\n",
    "y_pred = rf_cls.predict(test_features_en)\n",
    "y_pred_baseline = y_test.replace(['high', 'medium'], 'low')  # predict all 'low' as a baseline\n",
    "\n",
    "accuracy = accuracy_score(y_test, y_pred)\n",
    "accuracy_baseline = accuracy_score(y_test, y_pred_baseline)\n",
    "print(f\"Accuracy = {accuracy:.3f}\")\n",
    "print(f\"Baseline Accuracy = {accuracy_baseline:.3f}\")"
   ]
  },
  {
   "cell_type": "code",
   "execution_count": 240,
   "metadata": {},
   "outputs": [
    {
     "name": "stderr",
     "output_type": "stream",
     "text": [
      "100%|██████████| 1/1 [00:32<00:00, 32.03s/it]\n"
     ]
    }
   ],
   "source": [
    "# get features for all clustering photos en\n",
    "\n",
    "if not os.path.exists('sklearn-features/clustering_features_en.npy'):\n",
    "    all_features_en = get_features_en(photos_clustering, 'clustering-photos/all')\n",
    "    np.save('sklearn-features/clustering_features_en.npy', all_features_en)\n",
    "else:\n",
    "    all_features_en = np.load('sklearn-features/clustering_features_en.npy')"
   ]
  },
  {
   "cell_type": "code",
   "execution_count": 245,
   "metadata": {},
   "outputs": [
    {
     "data": {
      "text/plain": [
       "1792"
      ]
     },
     "execution_count": 245,
     "metadata": {},
     "output_type": "execute_result"
    }
   ],
   "source": [
    "len(all_features_en[0])"
   ]
  }
 ],
 "metadata": {
  "kernelspec": {
   "display_name": "venv",
   "language": "python",
   "name": "python3"
  },
  "language_info": {
   "codemirror_mode": {
    "name": "ipython",
    "version": 3
   },
   "file_extension": ".py",
   "mimetype": "text/x-python",
   "name": "python",
   "nbconvert_exporter": "python",
   "pygments_lexer": "ipython3",
   "version": "3.8.11"
  },
  "orig_nbformat": 4,
  "vscode": {
   "interpreter": {
    "hash": "ccc34f601dea4e2b7cba63f4606caae56eff2a9ce4d98f253936d8cecc7148a1"
   }
  }
 },
 "nbformat": 4,
 "nbformat_minor": 2
}
