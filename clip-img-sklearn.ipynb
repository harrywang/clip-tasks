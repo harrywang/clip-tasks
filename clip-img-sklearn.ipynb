{
 "cells": [
  {
   "cell_type": "code",
   "execution_count": 1,
   "metadata": {},
   "outputs": [
    {
     "name": "stderr",
     "output_type": "stream",
     "text": [
      "/Users/harrywang/sandbox/clip-tasks/venv/lib/python3.8/site-packages/tqdm/auto.py:22: TqdmWarning: IProgress not found. Please update jupyter and ipywidgets. See https://ipywidgets.readthedocs.io/en/stable/user_install.html\n",
      "  from .autonotebook import tqdm as notebook_tqdm\n"
     ]
    }
   ],
   "source": [
    "import clip\n",
    "import torch\n",
    "import numpy as np\n",
    "import pandas as pd\n",
    "from PIL import Image\n",
    "from tqdm import tqdm\n",
    "from sklearn.model_selection import train_test_split\n",
    "from sklearn.ensemble import RandomForestClassifier\n",
    "from sklearn.metrics import accuracy_score"
   ]
  },
  {
   "cell_type": "code",
   "execution_count": 2,
   "metadata": {},
   "outputs": [],
   "source": [
    "# use 5k compressed images\n",
    "photos = pd.read_csv('photos-5k-pred.csv')\n",
    "img_folder = '5k-compressed'"
   ]
  },
  {
   "cell_type": "code",
   "execution_count": 3,
   "metadata": {},
   "outputs": [
    {
     "name": "stdout",
     "output_type": "stream",
     "text": [
      "rows with iso null values: 665\n",
      "remove iso null value\n",
      "rows with iso null values: 0\n"
     ]
    }
   ],
   "source": [
    "print(f'rows with iso null values: {photos.exif_iso.isnull().sum()}')\n",
    "photos.dropna(subset=['exif_iso'], inplace=True)  # remove those rows\n",
    "print('remove iso null value')\n",
    "print(f'rows with iso null values: {photos.exif_iso.isnull().sum()}')"
   ]
  },
  {
   "cell_type": "code",
   "execution_count": 4,
   "metadata": {},
   "outputs": [
    {
     "data": {
      "text/plain": [
       "low     0.785698\n",
       "high    0.214302\n",
       "Name: iso_level, dtype: float64"
      ]
     },
     "execution_count": 4,
     "metadata": {},
     "output_type": "execute_result"
    }
   ],
   "source": [
    "# function to get a new derived column for iso\n",
    "def get_iso_level(row):\n",
    "    if row.exif_iso >= 600:\n",
    "        return 'high'\n",
    "    else:\n",
    "        return 'low'\n",
    "\n",
    "photos['iso_level'] = photos.apply(lambda row: get_iso_level(row), axis=1)\n",
    "photos.iso_level.value_counts(normalize=True)"
   ]
  },
  {
   "cell_type": "code",
   "execution_count": 5,
   "metadata": {},
   "outputs": [],
   "source": [
    "# use stratified sampling to split the train and test\n",
    "\n",
    "X = photos.drop('iso_level', axis=1)\n",
    "y = photos.iso_level\n",
    "\n",
    "X_train, X_test, y_train, y_test = train_test_split(X, y, stratify=y, test_size=0.2)"
   ]
  },
  {
   "cell_type": "code",
   "execution_count": 6,
   "metadata": {},
   "outputs": [
    {
     "name": "stdout",
     "output_type": "stream",
     "text": [
      "low     0.785755\n",
      "high    0.214245\n",
      "Name: iso_level, dtype: float64\n",
      "low     0.785467\n",
      "high    0.214533\n",
      "Name: iso_level, dtype: float64\n"
     ]
    }
   ],
   "source": [
    "# sanity check for stratified sampling\n",
    "print(y_train.value_counts(normalize=True))\n",
    "print(y_test.value_counts(normalize=True))"
   ]
  },
  {
   "cell_type": "code",
   "execution_count": 7,
   "metadata": {},
   "outputs": [
    {
     "name": "stdout",
     "output_type": "stream",
     "text": [
      "mps\n"
     ]
    }
   ],
   "source": [
    "# select device: mps for Apple M1, cuda for GPU\n",
    "device = \"mps\" if torch.backends.mps.is_available() else \"cpu\"\n",
    "#device = \"cuda\" if torch.cuda.is_available() else \"cpu\"\n",
    "print(device)\n",
    "\n",
    "# local model and preprocessor\n",
    "model, preprocess = clip.load(\"ViT-B/32\", device=device)  # ViT-L/14@336px is the latest, ViT-B/32 is the first release, use ViT-L/14"
   ]
  },
  {
   "cell_type": "code",
   "execution_count": 8,
   "metadata": {},
   "outputs": [],
   "source": [
    "def get_features(df, img_folder):\n",
    "    all_features = []\n",
    "\n",
    "    BATCH_SIZE = 500\n",
    "    total_photos = len(df)\n",
    "\n",
    "    for i in tqdm(range(0, total_photos, BATCH_SIZE)):\n",
    "        \n",
    "        # preprocess the images by batch\n",
    "        images = [\n",
    "            preprocess(  \n",
    "                Image.open(f'./'+ img_folder + f'/{img_id}.jpg')\n",
    "            ) for img_id in df['photo_id'].iloc[i:i+BATCH_SIZE]\n",
    "        ]\n",
    "        \n",
    "        # stack the preprocess the images from list to tensor\n",
    "        image_input = torch.tensor(np.stack(images)).to(device)  \n",
    "\n",
    "        with torch.no_grad():\n",
    "            image_features = model.encode_image(image_input)  # encode image\n",
    "            #print(image_features.shape)  # BATCH_SIZE, 512\n",
    "            all_features.append(image_features)  # append encoding result for each batch\n",
    "    \n",
    "    return torch.cat(all_features).cpu().numpy()  # concatenate all features"
   ]
  },
  {
   "cell_type": "code",
   "execution_count": 9,
   "metadata": {},
   "outputs": [
    {
     "name": "stderr",
     "output_type": "stream",
     "text": [
      "100%|██████████| 7/7 [01:15<00:00, 10.85s/it]\n",
      "100%|██████████| 2/2 [00:18<00:00,  9.41s/it]\n"
     ]
    }
   ],
   "source": [
    "train_features = get_features(X_train, img_folder)\n",
    "test_features = get_features(X_test, img_folder)"
   ]
  },
  {
   "cell_type": "code",
   "execution_count": 10,
   "metadata": {},
   "outputs": [
    {
     "name": "stdout",
     "output_type": "stream",
     "text": [
      "Accuracy = 0.818\n"
     ]
    }
   ],
   "source": [
    "# Evaluate using a random forest classifier\n",
    "\n",
    "rf_cls = RandomForestClassifier()\n",
    "rf_cls.fit(train_features, y_train)\n",
    "\n",
    "y_pred = rf_cls.predict(test_features)\n",
    "accuracy = accuracy_score(y_test, y_pred)\n",
    "print(f\"Accuracy = {accuracy:.3f}\")"
   ]
  },
  {
   "cell_type": "markdown",
   "metadata": {},
   "source": []
  }
 ],
 "metadata": {
  "kernelspec": {
   "display_name": "venv",
   "language": "python",
   "name": "python3"
  },
  "language_info": {
   "codemirror_mode": {
    "name": "ipython",
    "version": 3
   },
   "file_extension": ".py",
   "mimetype": "text/x-python",
   "name": "python",
   "nbconvert_exporter": "python",
   "pygments_lexer": "ipython3",
   "version": "3.8.11"
  },
  "orig_nbformat": 4,
  "vscode": {
   "interpreter": {
    "hash": "ccc34f601dea4e2b7cba63f4606caae56eff2a9ce4d98f253936d8cecc7148a1"
   }
  }
 },
 "nbformat": 4,
 "nbformat_minor": 2
}
